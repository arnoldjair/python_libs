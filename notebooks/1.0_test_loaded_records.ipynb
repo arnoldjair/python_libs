{
 "cells": [
  {
   "cell_type": "code",
   "execution_count": null,
   "metadata": {},
   "outputs": [],
   "source": [
    "from python_libs.dataset import RoseParser, Protocol, Record, SingleDatasource"
   ]
  },
  {
   "cell_type": "code",
   "execution_count": null,
   "metadata": {},
   "outputs": [],
   "source": [
    "records_frame = RoseParser.get_db_records_as_frame([\"2\"])"
   ]
  },
  {
   "cell_type": "code",
   "execution_count": null,
   "metadata": {},
   "outputs": [],
   "source": [
    "train, test = Protocol.get_protocol(\"/home/equipo/Insync/arnoldjair@gmail.com/GoogleDrive/Desarrollo/python_libs/configs/unit_test.json\")"
   ]
  },
  {
   "cell_type": "code",
   "execution_count": null,
   "metadata": {},
   "outputs": [],
   "source": [
    "print(train)"
   ]
  },
  {
   "cell_type": "code",
   "execution_count": 28,
   "metadata": {},
   "outputs": [
    {
     "name": "stderr",
     "output_type": "stream",
     "text": [
      "252it [00:18, 13.61it/s]\n"
     ]
    }
   ],
   "source": [
    "import h5py\n",
    "from tqdm import tqdm\n",
    "\n",
    "for index, current in tqdm(enumerate(train)):\n",
    "    data = current.load(300)\n",
    "    with h5py.File(f'/home/equipo/borrar/{current.video_path.split(\"/\")[-1]}_loaded.hdf5', 'w') as hf:\n",
    "        hf.create_dataset(str(index), data=data)\n",
    "    "
   ]
  },
  {
   "cell_type": "code",
   "execution_count": null,
   "metadata": {},
   "outputs": [],
   "source": [
    "dev_datasource = SingleDatasource(train)\n",
    "test_datasource = SingleDatasource(test)\n",
    "dev_labels = [current[-1] for current in dev_datasource]\n",
    "test_labels = [current[-1] for current in test_datasource]\n"
   ]
  },
  {
   "cell_type": "code",
   "execution_count": null,
   "metadata": {},
   "outputs": [],
   "source": [
    "print(dev_labels)\n",
    "print(test_labels)"
   ]
  },
  {
   "cell_type": "code",
   "execution_count": null,
   "metadata": {},
   "outputs": [],
   "source": []
  },
  {
   "cell_type": "code",
   "execution_count": null,
   "metadata": {},
   "outputs": [],
   "source": []
  }
 ],
 "metadata": {
  "kernelspec": {
   "display_name": "Python 3.8.5 ('.venv': venv)",
   "language": "python",
   "name": "python3"
  },
  "language_info": {
   "codemirror_mode": {
    "name": "ipython",
    "version": 3
   },
   "file_extension": ".py",
   "mimetype": "text/x-python",
   "name": "python",
   "nbconvert_exporter": "python",
   "pygments_lexer": "ipython3",
   "version": "3.8.5"
  },
  "pycharm": {
   "stem_cell": {
    "cell_type": "raw",
    "metadata": {
     "collapsed": false
    },
    "source": []
   }
  },
  "vscode": {
   "interpreter": {
    "hash": "c868153f573099a4deae4b467597d5de10e71a9cae2822005767a4b24aca74ed"
   }
  }
 },
 "nbformat": 4,
 "nbformat_minor": 2
}
