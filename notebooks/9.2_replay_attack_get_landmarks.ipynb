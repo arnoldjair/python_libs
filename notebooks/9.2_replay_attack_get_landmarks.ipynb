{
 "cells": [
  {
   "cell_type": "code",
   "execution_count": 54,
   "metadata": {},
   "outputs": [],
   "source": [
    "import os\n",
    "from python_libs.landmarks import LandmarkSBR\n",
    "from python_libs.video import get_video_info_file\n",
    "from python_libs.video import get_frames\n",
    "from python_libs.dataset import ReplayAttackParser\n",
    "import pandas as pd\n",
    "import time\n",
    "import h5py\n",
    "from tqdm import tqdm\n",
    "import datetime"
   ]
  },
  {
   "cell_type": "code",
   "execution_count": 55,
   "metadata": {},
   "outputs": [
    {
     "name": "stdout",
     "output_type": "stream",
     "text": [
      "The general dataset initialization done : GeneralDataset(point-num=-1, sigma=4.0, heatmap_type=gaussian, length=0, dataset=300W-68)\n",
      "Initialize cpm-vgg16 with configure : Configure(arch='cpm_vgg16', stages=3, dilation=[1], pooling=[True, True, True], downsample=8, argmax=4, pretrained=[True])\n",
      "vgg16_base use pre-trained model\n",
      "'detector'\n"
     ]
    }
   ],
   "source": [
    "model_path = os.path.join(os.getcwd(), \"..\", \"models\", \"cpm_vgg16-epoch-049-050.pth\")\n",
    "config_path = os.path.join(os.getcwd(), \"..\", \"configs\", \"SBRDetector.config\")\n",
    "model = LandmarkSBR(model_path=model_path,config_path=config_path, cpu=False)"
   ]
  },
  {
   "cell_type": "code",
   "execution_count": 56,
   "metadata": {},
   "outputs": [],
   "source": [
    "sqlite3_path = \"/home/equipo/Datasets/replayattack/replay_attack.sqlite3\"\n",
    "videos = ReplayAttackParser.get_db_records_as_frame(\n",
    "                datasets=[\"train\"], sqlite3_path=sqlite3_path\n",
    "            )"
   ]
  },
  {
   "cell_type": "code",
   "execution_count": 57,
   "metadata": {},
   "outputs": [
    {
     "data": {
      "text/html": [
       "<div>\n",
       "<style scoped>\n",
       "    .dataframe tbody tr th:only-of-type {\n",
       "        vertical-align: middle;\n",
       "    }\n",
       "\n",
       "    .dataframe tbody tr th {\n",
       "        vertical-align: top;\n",
       "    }\n",
       "\n",
       "    .dataframe thead th {\n",
       "        text-align: right;\n",
       "    }\n",
       "</style>\n",
       "<table border=\"1\" class=\"dataframe\">\n",
       "  <thead>\n",
       "    <tr style=\"text-align: right;\">\n",
       "      <th></th>\n",
       "      <th>path</th>\n",
       "      <th>label</th>\n",
       "    </tr>\n",
       "  </thead>\n",
       "  <tbody>\n",
       "    <tr>\n",
       "      <th>0</th>\n",
       "      <td>Dataset/train/attack/hand/attack_mobile_client...</td>\n",
       "      <td>1</td>\n",
       "    </tr>\n",
       "    <tr>\n",
       "      <th>1</th>\n",
       "      <td>Dataset/train/attack/hand/attack_highdef_clien...</td>\n",
       "      <td>1</td>\n",
       "    </tr>\n",
       "    <tr>\n",
       "      <th>2</th>\n",
       "      <td>Dataset/train/attack/hand/attack_highdef_clien...</td>\n",
       "      <td>1</td>\n",
       "    </tr>\n",
       "    <tr>\n",
       "      <th>3</th>\n",
       "      <td>Dataset/train/attack/hand/attack_highdef_clien...</td>\n",
       "      <td>1</td>\n",
       "    </tr>\n",
       "    <tr>\n",
       "      <th>4</th>\n",
       "      <td>Dataset/train/attack/hand/attack_highdef_clien...</td>\n",
       "      <td>1</td>\n",
       "    </tr>\n",
       "    <tr>\n",
       "      <th>...</th>\n",
       "      <td>...</td>\n",
       "      <td>...</td>\n",
       "    </tr>\n",
       "    <tr>\n",
       "      <th>355</th>\n",
       "      <td>Dataset/train/real/client018_session01_webcam_...</td>\n",
       "      <td>0</td>\n",
       "    </tr>\n",
       "    <tr>\n",
       "      <th>356</th>\n",
       "      <td>Dataset/train/real/client016_session01_webcam_...</td>\n",
       "      <td>0</td>\n",
       "    </tr>\n",
       "    <tr>\n",
       "      <th>357</th>\n",
       "      <td>Dataset/train/real/client004_session01_webcam_...</td>\n",
       "      <td>0</td>\n",
       "    </tr>\n",
       "    <tr>\n",
       "      <th>358</th>\n",
       "      <td>Dataset/train/real/client006_session01_webcam_...</td>\n",
       "      <td>0</td>\n",
       "    </tr>\n",
       "    <tr>\n",
       "      <th>359</th>\n",
       "      <td>Dataset/train/real/client002_session01_webcam_...</td>\n",
       "      <td>0</td>\n",
       "    </tr>\n",
       "  </tbody>\n",
       "</table>\n",
       "<p>360 rows × 2 columns</p>\n",
       "</div>"
      ],
      "text/plain": [
       "                                                  path  label\n",
       "0    Dataset/train/attack/hand/attack_mobile_client...      1\n",
       "1    Dataset/train/attack/hand/attack_highdef_clien...      1\n",
       "2    Dataset/train/attack/hand/attack_highdef_clien...      1\n",
       "3    Dataset/train/attack/hand/attack_highdef_clien...      1\n",
       "4    Dataset/train/attack/hand/attack_highdef_clien...      1\n",
       "..                                                 ...    ...\n",
       "355  Dataset/train/real/client018_session01_webcam_...      0\n",
       "356  Dataset/train/real/client016_session01_webcam_...      0\n",
       "357  Dataset/train/real/client004_session01_webcam_...      0\n",
       "358  Dataset/train/real/client006_session01_webcam_...      0\n",
       "359  Dataset/train/real/client002_session01_webcam_...      0\n",
       "\n",
       "[360 rows x 2 columns]"
      ]
     },
     "execution_count": 57,
     "metadata": {},
     "output_type": "execute_result"
    }
   ],
   "source": [
    "videos"
   ]
  },
  {
   "cell_type": "code",
   "execution_count": 58,
   "metadata": {},
   "outputs": [],
   "source": [
    "root_path = \"/home/equipo/Datasets/replayattack/\"\n",
    "for index, video in videos.iterrows():\n",
    "    path = os.path.join(root_path, video[\"path\"])\n",
    "    face_landmarks = {}\n",
    "    if os.path.isfile(f'{path}.list') and not os.path.isfile(f'{path}.hdf5'):\n",
    "        frames = get_frames(path)\n",
    "        face_locs = pd.read_csv(\n",
    "                f'{path}.list', sep=' ', header=None, index_col=0, names=['x', 'y', 'w', 'h'])\n",
    "        prev_time = time.time()\n",
    "        for index, frame in tqdm(frames.items()):\n",
    "            try :\n",
    "                [x, y, w, h] = face_locs.loc[index].to_numpy()\n",
    "                pred = model.process_image(frame, [x, y, x + w, y + h])\n",
    "                face_landmarks[index] = pred\n",
    "            except:\n",
    "                print(f'Index error {index}')\n",
    "            \n",
    "        current_time = time.time()\n",
    "        inference_time = datetime.timedelta(\n",
    "            seconds=current_time - prev_time)\n",
    "        print(\"\\t+ Inference Time: %s\" % (inference_time))\n",
    "\n",
    "        with h5py.File(f'{path}.hdf5', 'w') as hf:\n",
    "            for index, landmark in tqdm(face_landmarks.items()):\n",
    "                hf.create_dataset(str(index), data=landmark)\n"
   ]
  },
  {
   "cell_type": "code",
   "execution_count": 59,
   "metadata": {},
   "outputs": [],
   "source": [
    "[x, y, w, h] = face_locs.loc[229].to_numpy()"
   ]
  }
 ],
 "metadata": {
  "kernelspec": {
   "display_name": "Python 3.8.5 ('.venv': venv)",
   "language": "python",
   "name": "python3"
  },
  "language_info": {
   "codemirror_mode": {
    "name": "ipython",
    "version": 3
   },
   "file_extension": ".py",
   "mimetype": "text/x-python",
   "name": "python",
   "nbconvert_exporter": "python",
   "pygments_lexer": "ipython3",
   "version": "3.7.16"
  },
  "orig_nbformat": 4,
  "vscode": {
   "interpreter": {
    "hash": "c868153f573099a4deae4b467597d5de10e71a9cae2822005767a4b24aca74ed"
   }
  }
 },
 "nbformat": 4,
 "nbformat_minor": 2
}
