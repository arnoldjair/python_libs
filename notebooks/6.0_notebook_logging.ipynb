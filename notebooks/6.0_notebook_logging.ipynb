{
 "cells": [
  {
   "cell_type": "code",
   "execution_count": 1,
   "metadata": {},
   "outputs": [
    {
     "name": "stdout",
     "output_type": "stream",
     "text": [
      "2022-09-01_23:46:56.log\n"
     ]
    }
   ],
   "source": [
    "import logging\n",
    "import sys\n",
    "import datetime\n",
    "\n",
    "now = f'{datetime.datetime.now().strftime(\"%Y-%m-%d_%H:%M:%S\")}.log'\n",
    "print(now)\n",
    "\n",
    "logging.basicConfig(\n",
    "    level=logging.INFO, \n",
    "    format='[{%(filename)s:%(lineno)d} %(levelname)s - %(message)s',\n",
    "    handlers=[\n",
    "        logging.FileHandler(filename=now),\n",
    "        logging.StreamHandler(sys.stdout)\n",
    "    ]\n",
    ")"
   ]
  },
  {
   "cell_type": "code",
   "execution_count": 2,
   "metadata": {},
   "outputs": [],
   "source": [
    "class Test():\n",
    "    \n",
    "    def test_func(self):\n",
    "        for a in range(100):\n",
    "            logging.info(\"current it: %s\", a)"
   ]
  },
  {
   "cell_type": "code",
   "execution_count": 4,
   "metadata": {},
   "outputs": [
    {
     "name": "stdout",
     "output_type": "stream",
     "text": [
      "[{1119735370.py:5} INFO - current it: 0\n",
      "[{1119735370.py:5} INFO - current it: 1\n",
      "[{1119735370.py:5} INFO - current it: 2\n",
      "[{1119735370.py:5} INFO - current it: 3\n",
      "[{1119735370.py:5} INFO - current it: 4\n",
      "[{1119735370.py:5} INFO - current it: 5\n",
      "[{1119735370.py:5} INFO - current it: 6\n",
      "[{1119735370.py:5} INFO - current it: 7\n",
      "[{1119735370.py:5} INFO - current it: 8\n",
      "[{1119735370.py:5} INFO - current it: 9\n",
      "[{1119735370.py:5} INFO - current it: 10\n",
      "[{1119735370.py:5} INFO - current it: 11\n",
      "[{1119735370.py:5} INFO - current it: 12\n",
      "[{1119735370.py:5} INFO - current it: 13\n",
      "[{1119735370.py:5} INFO - current it: 14\n",
      "[{1119735370.py:5} INFO - current it: 15\n",
      "[{1119735370.py:5} INFO - current it: 16\n",
      "[{1119735370.py:5} INFO - current it: 17\n",
      "[{1119735370.py:5} INFO - current it: 18\n",
      "[{1119735370.py:5} INFO - current it: 19\n",
      "[{1119735370.py:5} INFO - current it: 20\n",
      "[{1119735370.py:5} INFO - current it: 21\n",
      "[{1119735370.py:5} INFO - current it: 22\n",
      "[{1119735370.py:5} INFO - current it: 23\n",
      "[{1119735370.py:5} INFO - current it: 24\n",
      "[{1119735370.py:5} INFO - current it: 25\n",
      "[{1119735370.py:5} INFO - current it: 26\n",
      "[{1119735370.py:5} INFO - current it: 27\n",
      "[{1119735370.py:5} INFO - current it: 28\n",
      "[{1119735370.py:5} INFO - current it: 29\n",
      "[{1119735370.py:5} INFO - current it: 30\n",
      "[{1119735370.py:5} INFO - current it: 31\n",
      "[{1119735370.py:5} INFO - current it: 32\n",
      "[{1119735370.py:5} INFO - current it: 33\n",
      "[{1119735370.py:5} INFO - current it: 34\n",
      "[{1119735370.py:5} INFO - current it: 35\n",
      "[{1119735370.py:5} INFO - current it: 36\n",
      "[{1119735370.py:5} INFO - current it: 37\n",
      "[{1119735370.py:5} INFO - current it: 38\n",
      "[{1119735370.py:5} INFO - current it: 39\n",
      "[{1119735370.py:5} INFO - current it: 40\n",
      "[{1119735370.py:5} INFO - current it: 41\n",
      "[{1119735370.py:5} INFO - current it: 42\n",
      "[{1119735370.py:5} INFO - current it: 43\n",
      "[{1119735370.py:5} INFO - current it: 44\n",
      "[{1119735370.py:5} INFO - current it: 45\n",
      "[{1119735370.py:5} INFO - current it: 46\n",
      "[{1119735370.py:5} INFO - current it: 47\n",
      "[{1119735370.py:5} INFO - current it: 48\n",
      "[{1119735370.py:5} INFO - current it: 49\n",
      "[{1119735370.py:5} INFO - current it: 50\n",
      "[{1119735370.py:5} INFO - current it: 51\n",
      "[{1119735370.py:5} INFO - current it: 52\n",
      "[{1119735370.py:5} INFO - current it: 53\n",
      "[{1119735370.py:5} INFO - current it: 54\n",
      "[{1119735370.py:5} INFO - current it: 55\n",
      "[{1119735370.py:5} INFO - current it: 56\n",
      "[{1119735370.py:5} INFO - current it: 57\n",
      "[{1119735370.py:5} INFO - current it: 58\n",
      "[{1119735370.py:5} INFO - current it: 59\n",
      "[{1119735370.py:5} INFO - current it: 60\n",
      "[{1119735370.py:5} INFO - current it: 61\n",
      "[{1119735370.py:5} INFO - current it: 62\n",
      "[{1119735370.py:5} INFO - current it: 63\n",
      "[{1119735370.py:5} INFO - current it: 64\n",
      "[{1119735370.py:5} INFO - current it: 65\n",
      "[{1119735370.py:5} INFO - current it: 66\n",
      "[{1119735370.py:5} INFO - current it: 67\n",
      "[{1119735370.py:5} INFO - current it: 68\n",
      "[{1119735370.py:5} INFO - current it: 69\n",
      "[{1119735370.py:5} INFO - current it: 70\n",
      "[{1119735370.py:5} INFO - current it: 71\n",
      "[{1119735370.py:5} INFO - current it: 72\n",
      "[{1119735370.py:5} INFO - current it: 73\n",
      "[{1119735370.py:5} INFO - current it: 74\n",
      "[{1119735370.py:5} INFO - current it: 75\n",
      "[{1119735370.py:5} INFO - current it: 76\n",
      "[{1119735370.py:5} INFO - current it: 77\n",
      "[{1119735370.py:5} INFO - current it: 78\n",
      "[{1119735370.py:5} INFO - current it: 79\n",
      "[{1119735370.py:5} INFO - current it: 80\n",
      "[{1119735370.py:5} INFO - current it: 81\n",
      "[{1119735370.py:5} INFO - current it: 82\n",
      "[{1119735370.py:5} INFO - current it: 83\n",
      "[{1119735370.py:5} INFO - current it: 84\n",
      "[{1119735370.py:5} INFO - current it: 85\n",
      "[{1119735370.py:5} INFO - current it: 86\n",
      "[{1119735370.py:5} INFO - current it: 87\n",
      "[{1119735370.py:5} INFO - current it: 88\n",
      "[{1119735370.py:5} INFO - current it: 89\n",
      "[{1119735370.py:5} INFO - current it: 90\n",
      "[{1119735370.py:5} INFO - current it: 91\n",
      "[{1119735370.py:5} INFO - current it: 92\n",
      "[{1119735370.py:5} INFO - current it: 93\n",
      "[{1119735370.py:5} INFO - current it: 94\n",
      "[{1119735370.py:5} INFO - current it: 95\n",
      "[{1119735370.py:5} INFO - current it: 96\n",
      "[{1119735370.py:5} INFO - current it: 97\n",
      "[{1119735370.py:5} INFO - current it: 98\n",
      "[{1119735370.py:5} INFO - current it: 99\n"
     ]
    }
   ],
   "source": [
    "a = Test()\n",
    "a.test_func()"
   ]
  },
  {
   "cell_type": "code",
   "execution_count": null,
   "metadata": {},
   "outputs": [],
   "source": []
  }
 ],
 "metadata": {
  "kernelspec": {
   "display_name": "Python 3.8.5 ('.venv': venv)",
   "language": "python",
   "name": "python3"
  },
  "language_info": {
   "codemirror_mode": {
    "name": "ipython",
    "version": 3
   },
   "file_extension": ".py",
   "mimetype": "text/x-python",
   "name": "python",
   "nbconvert_exporter": "python",
   "pygments_lexer": "ipython3",
   "version": "3.8.5"
  },
  "orig_nbformat": 4,
  "vscode": {
   "interpreter": {
    "hash": "c868153f573099a4deae4b467597d5de10e71a9cae2822005767a4b24aca74ed"
   }
  }
 },
 "nbformat": 4,
 "nbformat_minor": 2
}
