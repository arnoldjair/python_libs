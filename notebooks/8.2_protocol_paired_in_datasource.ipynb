{
 "cells": [
  {
   "cell_type": "code",
   "execution_count": 1,
   "metadata": {},
   "outputs": [],
   "source": [
    "from python_libs.dataset import Protocol, Datasource\n",
    "from torch.utils.data import DataLoader\n",
    "import numpy as np"
   ]
  },
  {
   "cell_type": "code",
   "execution_count": 3,
   "metadata": {},
   "outputs": [],
   "source": [
    "records, groups, records_dict = Protocol.get_records(\"/home/equipo/Desarrollo/python_libs/data/protocol/all_local.json\")\n",
    "datasource = Datasource(records, 100, 416, 416, 30)\n",
    "trn_dl = DataLoader(datasource, batch_size=2, shuffle=True)"
   ]
  },
  {
   "cell_type": "code",
   "execution_count": 4,
   "metadata": {},
   "outputs": [
    {
     "name": "stdout",
     "output_type": "stream",
     "text": [
      "torch.Size([2, 30, 5544])\n",
      "torch.Size([2, 30, 5544])\n",
      "torch.Size([2, 30, 5544])\n",
      "torch.Size([2, 30, 5544])\n",
      "torch.Size([2, 30, 5544])\n",
      "torch.Size([2, 30, 5544])\n"
     ]
    }
   ],
   "source": [
    "for i, (record_1, record_2, label) in enumerate(trn_dl):\n",
    "    print(np.shape(record_1))"
   ]
  },
  {
   "cell_type": "code",
   "execution_count": null,
   "metadata": {},
   "outputs": [],
   "source": []
  }
 ],
 "metadata": {
  "kernelspec": {
   "display_name": "Python 3.10.6 ('python_libs')",
   "language": "python",
   "name": "python3"
  },
  "language_info": {
   "codemirror_mode": {
    "name": "ipython",
    "version": 3
   },
   "file_extension": ".py",
   "mimetype": "text/x-python",
   "name": "python",
   "nbconvert_exporter": "python",
   "pygments_lexer": "ipython3",
   "version": "3.9.16"
  },
  "orig_nbformat": 4,
  "vscode": {
   "interpreter": {
    "hash": "171ed7ad2087d64c3fb0ac4c60fa45746fdef4062527c46a2659ac54d234a524"
   }
  }
 },
 "nbformat": 4,
 "nbformat_minor": 2
}
