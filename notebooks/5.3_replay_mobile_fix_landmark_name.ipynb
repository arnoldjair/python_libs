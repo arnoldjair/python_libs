{
 "cells": [
  {
   "cell_type": "code",
   "execution_count": 17,
   "metadata": {},
   "outputs": [],
   "source": [
    "import os\n",
    "import glob\n",
    "import numpy as np"
   ]
  },
  {
   "cell_type": "code",
   "execution_count": 23,
   "metadata": {},
   "outputs": [],
   "source": [
    "path = \"/home/equipo/Insync/arnoldjair@gmail.com/GoogleDrive/Datasets/SpoofingDatasets/replay-mobile/database/devel/\"\n",
    "\n",
    "files = glob.glob(f'{path}**/*_flow.hdf5', recursive=True)\n",
    "\n",
    "count = 1\n",
    "\n",
    "for b in [b for b in files if not os.path.isdir(b)]:\n",
    "    name = b.split('_flow.hdf5')[0]\n",
    "    print(f'{name}.hdf5')\n",
    "    # os.rename(b, f'{name}.hdf5')"
   ]
  },
  {
   "cell_type": "code",
   "execution_count": null,
   "metadata": {},
   "outputs": [],
   "source": []
  }
 ],
 "metadata": {
  "kernelspec": {
   "display_name": "Python 3.8.5 ('.venv': venv)",
   "language": "python",
   "name": "python3"
  },
  "language_info": {
   "codemirror_mode": {
    "name": "ipython",
    "version": 3
   },
   "file_extension": ".py",
   "mimetype": "text/x-python",
   "name": "python",
   "nbconvert_exporter": "python",
   "pygments_lexer": "ipython3",
   "version": "3.8.5"
  },
  "orig_nbformat": 4,
  "vscode": {
   "interpreter": {
    "hash": "c868153f573099a4deae4b467597d5de10e71a9cae2822005767a4b24aca74ed"
   }
  }
 },
 "nbformat": 4,
 "nbformat_minor": 2
}
