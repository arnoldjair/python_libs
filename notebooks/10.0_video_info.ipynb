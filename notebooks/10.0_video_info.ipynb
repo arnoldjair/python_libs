{
 "cells": [
  {
   "cell_type": "code",
   "execution_count": null,
   "metadata": {},
   "outputs": [],
   "source": [
    "import os\n",
    "from python_libs.video import  get_video_info\n",
    "from python_libs.dataset import ReplayAttackParser\n",
    "import pandas as pd\n",
    "from tqdm import tqdm"
   ]
  },
  {
   "cell_type": "code",
   "execution_count": null,
   "metadata": {},
   "outputs": [],
   "source": [
    "def validate_list(path):\n",
    "\n",
    "    face_locs = pd.read_csv(\n",
    "        f'{path}.list', sep=' ', header=None, index_col=0, names=['x', 'y', 'w', 'h'])\n",
    "    if face_locs.empty:\n",
    "        return False\n",
    "\n",
    "    face = [_, _, _, _] = face_locs.iloc[-1].to_numpy()\n",
    "\n",
    "    if np.any(face):\n",
    "        print(\"Invalid list file\")\n",
    "        return False\n",
    "    else:\n",
    "        return True"
   ]
  },
  {
   "cell_type": "code",
   "execution_count": null,
   "metadata": {},
   "outputs": [],
   "source": [
    "list_file = \"/home/equipo/Insync/arnoldjair@gmail.com/GoogleDrive/Datasets/SpoofingDatasets/replayattack/list.txt\"\n",
    "root_path = \"/home/equipo/Insync/arnoldjair@gmail.com/GoogleDrive/Datasets/SpoofingDatasets/replayattack/\"\n",
    "\n",
    "with open(list_file, 'r') as f:\n",
    "    video_list = f.read().splitlines()\n",
    "    for video_name in tqdm(video_list):\n",
    "        path = os.path.join(root_path, video_name)\n",
    "        if not os.path.isfile(f'{path}.info') or not validate_list(path):\n",
    "            rotation, width, height, frame_rate = get_video_info(path)\n",
    "\n",
    "            with open(f'{path}.info', 'w') as f:\n",
    "                print(f'Writing {path}.info')\n",
    "                f.write(f'{rotation} {width} {height} {frame_rate}\\n')"
   ]
  }
 ],
 "metadata": {
  "kernelspec": {
   "display_name": "Python 3.8.5 ('.venv': venv)",
   "language": "python",
   "name": "python3"
  },
  "language_info": {
   "codemirror_mode": {
    "name": "ipython",
    "version": 3
   },
   "file_extension": ".py",
   "mimetype": "text/x-python",
   "name": "python",
   "nbconvert_exporter": "python",
   "pygments_lexer": "ipython3",
   "version": "3.9.16"
  },
  "orig_nbformat": 4,
  "vscode": {
   "interpreter": {
    "hash": "c868153f573099a4deae4b467597d5de10e71a9cae2822005767a4b24aca74ed"
   }
  }
 },
 "nbformat": 4,
 "nbformat_minor": 2
}
