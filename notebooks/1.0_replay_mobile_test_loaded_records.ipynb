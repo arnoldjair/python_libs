{
 "cells": [
  {
   "cell_type": "code",
   "execution_count": 1,
   "metadata": {},
   "outputs": [
    {
     "name": "stderr",
     "output_type": "stream",
     "text": [
      "/home/equipo/Insync/arnoldjair@gmail.com/GoogleDrive/Desarrollo/python_libs/.venv/lib/python3.8/site-packages/tqdm/auto.py:22: TqdmWarning: IProgress not found. Please update jupyter and ipywidgets. See https://ipywidgets.readthedocs.io/en/stable/user_install.html\n",
      "  from .autonotebook import tqdm as notebook_tqdm\n"
     ]
    }
   ],
   "source": [
    "from python_libs.dataset import Protocol, SingleDatasource\n",
    "from python_libs.image import show_landmarks\n",
    "from python_libs.video import get_video_info_file\n",
    "from sklearn.preprocessing import MinMaxScaler\n",
    "import numpy as np"
   ]
  },
  {
   "cell_type": "code",
   "execution_count": 2,
   "metadata": {},
   "outputs": [],
   "source": [
    "# train, test = Protocol.get_protocol(\"/home/equipo/Insync/arnoldjair@gmail.com/GoogleDrive/Desarrollo/python_libs/configs/unit_test.json\")\n",
    "train = Protocol.load_replay_mobile(\"/home/equipo/Insync/arnoldjair@gmail.com/GoogleDrive/Desarrollo/python_libs/configs/unit_test.json\")"
   ]
  },
  {
   "cell_type": "code",
   "execution_count": null,
   "metadata": {},
   "outputs": [],
   "source": [
    "# print(train)"
   ]
  },
  {
   "cell_type": "code",
   "execution_count": 3,
   "metadata": {},
   "outputs": [
    {
     "data": {
      "image/png": "[encoded data removed]",
      "text/plain": [
       "<Figure size 432x288 with 1 Axes>"
      ]
     },
     "metadata": {
      "needs_background": "light"
     },
     "output_type": "display_data"
    }
   ],
   "source": [
    "record_0 = train[0]\n",
    "video_info_path = f'{record_0.video_path}.info'\n",
    "[rot, width, height, fps] = get_video_info_file(video_info_path)\n",
    "image_0 = np.zeros([int(width), int(height),3],dtype=np.uint8)\n",
    "landmarks_0 = record_0.get_landmarks(time=300, reshape=False)\n",
    "show_landmarks(image_0, landmarks_0[0])"
   ]
  },
  {
   "cell_type": "code",
   "execution_count": 4,
   "metadata": {},
   "outputs": [
    {
     "data": {
      "image/png": "[encoded data removed]",
      "text/plain": [
       "<Figure size 432x288 with 1 Axes>"
      ]
     },
     "metadata": {
      "needs_background": "light"
     },
     "output_type": "display_data"
    }
   ],
   "source": [
    "\n",
    "\n",
    "landmarks_0_1 = landmarks_0[0].T\n",
    "scaler = MinMaxScaler()\n",
    "landmarks_0_1_res =   scaler.fit_transform(landmarks_0_1).T\n",
    "image_0_1 = np.zeros([int(2), int(2),3],dtype=np.uint8)\n",
    "show_landmarks(image_0_1, landmarks_0_1_res)"
   ]
  },
  {
   "cell_type": "code",
   "execution_count": 5,
   "metadata": {},
   "outputs": [
    {
     "data": {
      "image/png": "[encoded data removed]",
      "text/plain": [
       "<Figure size 432x288 with 1 Axes>"
      ]
     },
     "metadata": {
      "needs_background": "light"
     },
     "output_type": "display_data"
    }
   ],
   "source": [
    "record_1 = train[1]\n",
    "landmarks_1 = record_1.get_landmarks(time=300, reshape=False, scale=True)\n",
    "image_1_1 = np.zeros([int(2), int(2),3],dtype=np.uint8)\n",
    "show_landmarks(image_1_1, landmarks_1[0])"
   ]
  },
  {
   "cell_type": "code",
   "execution_count": 6,
   "metadata": {},
   "outputs": [
    {
     "ename": "TypeError",
     "evalue": "'NoneType' object is not subscriptable",
     "output_type": "error",
     "traceback": [
      "\u001b[0;31m---------------------------------------------------------------------------\u001b[0m",
      "\u001b[0;31mTypeError\u001b[0m                                 Traceback (most recent call last)",
      "\u001b[1;32m/home/equipo/Insync/arnoldjair@gmail.com/GoogleDrive/Desarrollo/python_libs/notebooks/1.0_replay_mobile_test_loaded_records.ipynb Cell 7\u001b[0m in \u001b[0;36m<cell line: 2>\u001b[0;34m()\u001b[0m\n\u001b[1;32m      <a href='vscode-notebook-cell:/home/equipo/Insync/arnoldjair%40gmail.com/GoogleDrive/Desarrollo/python_libs/notebooks/1.0_replay_mobile_test_loaded_records.ipynb#ch0000006?line=0'>1</a>\u001b[0m record \u001b[39m=\u001b[39m train[\u001b[39m0\u001b[39m]\n\u001b[0;32m----> <a href='vscode-notebook-cell:/home/equipo/Insync/arnoldjair%40gmail.com/GoogleDrive/Desarrollo/python_libs/notebooks/1.0_replay_mobile_test_loaded_records.ipynb#ch0000006?line=1'>2</a>\u001b[0m loaded \u001b[39m=\u001b[39m record\u001b[39m.\u001b[39;49mload(\u001b[39m300\u001b[39;49m, samples\u001b[39m=\u001b[39;49m\u001b[39m30\u001b[39;49m)\n",
      "File \u001b[0;32m~/Insync/arnoldjair@gmail.com/GoogleDrive/Desarrollo/python_libs/src/python_libs/dataset/record.py:43\u001b[0m, in \u001b[0;36mRecord.load\u001b[0;34m(self, time, every_frame, samples, scale)\u001b[0m\n\u001b[1;32m     31\u001b[0m \u001b[39m\"\"\"Load\u001b[39;00m\n\u001b[1;32m     32\u001b[0m \n\u001b[1;32m     33\u001b[0m \u001b[39mArgs:\u001b[39;00m\n\u001b[0;32m   (...)\u001b[0m\n\u001b[1;32m     38\u001b[0m \u001b[39m    NDArray: _description_\u001b[39;00m\n\u001b[1;32m     39\u001b[0m \u001b[39m\"\"\"\u001b[39;00m\n\u001b[1;32m     40\u001b[0m \u001b[39mself\u001b[39m\u001b[39m.\u001b[39mlandmarks \u001b[39m=\u001b[39m \u001b[39mself\u001b[39m\u001b[39m.\u001b[39mget_landmarks(\n\u001b[1;32m     41\u001b[0m     time\u001b[39m=\u001b[39mtime, every_frame\u001b[39m=\u001b[39mevery_frame, scale\u001b[39m=\u001b[39mscale\n\u001b[1;32m     42\u001b[0m )[:samples]\n\u001b[0;32m---> 43\u001b[0m \u001b[39mself\u001b[39m\u001b[39m.\u001b[39mflow \u001b[39m=\u001b[39m \u001b[39mself\u001b[39;49m\u001b[39m.\u001b[39;49mget_flow()[:samples]\n\u001b[1;32m     44\u001b[0m \u001b[39massert\u001b[39;00m \u001b[39mself\u001b[39m\u001b[39m.\u001b[39mflow \u001b[39mis\u001b[39;00m \u001b[39mnot\u001b[39;00m \u001b[39mNone\u001b[39;00m, \u001b[39m\"\u001b[39m\u001b[39mFlow is None\u001b[39m\u001b[39m\"\u001b[39m\n\u001b[1;32m     45\u001b[0m rep \u001b[39m=\u001b[39m np\u001b[39m.\u001b[39mconcatenate(\n\u001b[1;32m     46\u001b[0m     (\n\u001b[1;32m     47\u001b[0m         \u001b[39mself\u001b[39m\u001b[39m.\u001b[39mlandmarks,\n\u001b[0;32m   (...)\u001b[0m\n\u001b[1;32m     50\u001b[0m     axis\u001b[39m=\u001b[39m\u001b[39m1\u001b[39m,\n\u001b[1;32m     51\u001b[0m )\n",
      "\u001b[0;31mTypeError\u001b[0m: 'NoneType' object is not subscriptable"
     ]
    }
   ],
   "source": [
    "record = train[0]\n",
    "loaded = record.load(300, samples=30)"
   ]
  },
  {
   "cell_type": "code",
   "execution_count": null,
   "metadata": {},
   "outputs": [],
   "source": [
    "import numpy as np \n",
    "print(f'flow shape: {record.flow[1].shape}, landmarks shape: {record.landmarks.shape}, rep shape: {loaded.shape}')\n",
    "landmarks = record.landmarks   "
   ]
  },
  {
   "cell_type": "code",
   "execution_count": null,
   "metadata": {},
   "outputs": [],
   "source": [
    "import torch\n",
    "import numpy as np\n",
    "from python_libs.optical_flow import RaftModel\n",
    "from python_libs.image import load_image\n",
    "\n",
    "for flow in record.flow:\n",
    "    flo = torch.from_numpy(flow).permute(2, 0, 1).unsqueeze(0)\n",
    "    frame = torch.from_numpy(\n",
    "                    np.zeros([52,52,3],dtype=np.uint8)\n",
    "                ).permute(2, 0, 1).float().unsqueeze(0)\n",
    "    RaftModel.visualize_flow(frame, flo)"
   ]
  },
  {
   "cell_type": "code",
   "execution_count": null,
   "metadata": {},
   "outputs": [],
   "source": []
  },
  {
   "cell_type": "code",
   "execution_count": null,
   "metadata": {},
   "outputs": [],
   "source": [
    "dev_datasource = SingleDatasource(train)\n",
    "test_datasource = SingleDatasource(test)\n",
    "dev_labels = [current[-1] for current in dev_datasource]\n",
    "test_labels = [current[-1] for current in test_datasource]\n"
   ]
  },
  {
   "cell_type": "code",
   "execution_count": null,
   "metadata": {},
   "outputs": [],
   "source": [
    "print(dev_labels)\n",
    "print(test_labels)"
   ]
  },
  {
   "cell_type": "code",
   "execution_count": null,
   "metadata": {},
   "outputs": [],
   "source": []
  },
  {
   "cell_type": "code",
   "execution_count": null,
   "metadata": {},
   "outputs": [],
   "source": []
  }
 ],
 "metadata": {
  "kernelspec": {
   "display_name": "Python 3.8.5 ('.venv': venv)",
   "language": "python",
   "name": "python3"
  },
  "language_info": {
   "codemirror_mode": {
    "name": "ipython",
    "version": 3
   },
   "file_extension": ".py",
   "mimetype": "text/x-python",
   "name": "python",
   "nbconvert_exporter": "python",
   "pygments_lexer": "ipython3",
   "version": "3.8.5"
  },
  "pycharm": {
   "stem_cell": {
    "cell_type": "raw",
    "metadata": {
     "collapsed": false
    },
    "source": []
   }
  },
  "vscode": {
   "interpreter": {
    "hash": "c868153f573099a4deae4b467597d5de10e71a9cae2822005767a4b24aca74ed"
   }
  }
 },
 "nbformat": 4,
 "nbformat_minor": 2
}
