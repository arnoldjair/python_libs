{
 "cells": [
  {
   "cell_type": "code",
   "execution_count": null,
   "metadata": {},
   "outputs": [],
   "source": [
    "from python_libs.dataset import Protocol, Datasource\n",
    "import numpy as np\n",
    "from torch.utils.data import DataLoader"
   ]
  },
  {
   "cell_type": "code",
   "execution_count": null,
   "metadata": {},
   "outputs": [],
   "source": [
    "# train, test = Protocol.get_pairs_protocol(\"/home/equipo/Insync/arnoldjair@gmail.com/GoogleDrive/Desarrollo/python_libs/configs/unit_test.json\")\n",
    "train, test = Protocol.get_pairs_protocol(\"/home/equipo/Desarrollo/python_libs/data/protocol/test_replay_mobile_colab.json\")\n",
    "datasource = Datasource(train, 100, 416, 416)\n",
    "trn_dl = DataLoader(datasource, batch_size=2, shuffle=True)"
   ]
  },
  {
   "cell_type": "code",
   "execution_count": null,
   "metadata": {},
   "outputs": [],
   "source": [
    "for i, (record_1, record_2, label) in enumerate(trn_dl):\n",
    "    print(np.shape(record_1))\n",
    "    "
   ]
  },
  {
   "cell_type": "code",
   "execution_count": null,
   "metadata": {},
   "outputs": [],
   "source": []
  }
 ],
 "metadata": {
  "kernelspec": {
   "display_name": "Python 3.10.6 ('python_libs')",
   "language": "python",
   "name": "python3"
  },
  "language_info": {
   "codemirror_mode": {
    "name": "ipython",
    "version": 3
   },
   "file_extension": ".py",
   "mimetype": "text/x-python",
   "name": "python",
   "nbconvert_exporter": "python",
   "pygments_lexer": "ipython3",
   "version": "3.9.16"
  },
  "orig_nbformat": 4,
  "vscode": {
   "interpreter": {
    "hash": "171ed7ad2087d64c3fb0ac4c60fa45746fdef4062527c46a2659ac54d234a524"
   }
  }
 },
 "nbformat": 4,
 "nbformat_minor": 2
}
