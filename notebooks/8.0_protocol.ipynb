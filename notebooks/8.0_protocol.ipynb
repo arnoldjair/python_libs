{
 "cells": [
  {
   "cell_type": "code",
   "execution_count": 1,
   "metadata": {},
   "outputs": [],
   "source": [
    "from python_libs.dataset import RoseParser, Protocol, Record, SingleDatasource"
   ]
  },
  {
   "cell_type": "code",
   "execution_count": 2,
   "metadata": {},
   "outputs": [],
   "source": [
    "train, test = Protocol.get_pairs_protocol(\"/home/equipo/Insync/arnoldjair@gmail.com/GoogleDrive/Desarrollo/python_libs/configs/unit_test.json\")"
   ]
  },
  {
   "cell_type": "code",
   "execution_count": 8,
   "metadata": {},
   "outputs": [
    {
     "data": {
      "text/plain": [
       "[/home/equipo/Insync/arnoldjair@gmail.com/GoogleDrive/Desarrollo/python_libs/data/external/replay-mobile/database/devel/attack/attack_client035_session01_mattescreen_fixed_mobile_photo_lightoff.mov-1,\n",
       " /home/equipo/Insync/arnoldjair@gmail.com/GoogleDrive/Desarrollo/python_libs/data/external/Rose/Dataset/2/G_NT_HS_g_E_2_11.mp4-0,\n",
       " 0]"
      ]
     },
     "execution_count": 8,
     "metadata": {},
     "output_type": "execute_result"
    }
   ],
   "source": [
    "from random import random\n",
    "import numpy as np\n",
    "\n",
    "train[50]"
   ]
  },
  {
   "cell_type": "code",
   "execution_count": null,
   "metadata": {},
   "outputs": [],
   "source": []
  }
 ],
 "metadata": {
  "kernelspec": {
   "display_name": "Python 3.6.13 ('python_libs')",
   "language": "python",
   "name": "python3"
  },
  "language_info": {
   "codemirror_mode": {
    "name": "ipython",
    "version": 3
   },
   "file_extension": ".py",
   "mimetype": "text/x-python",
   "name": "python",
   "nbconvert_exporter": "python",
   "pygments_lexer": "ipython3",
   "version": "3.6.13"
  },
  "orig_nbformat": 4,
  "vscode": {
   "interpreter": {
    "hash": "171ed7ad2087d64c3fb0ac4c60fa45746fdef4062527c46a2659ac54d234a524"
   }
  }
 },
 "nbformat": 4,
 "nbformat_minor": 2
}
