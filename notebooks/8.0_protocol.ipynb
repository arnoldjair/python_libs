{
 "cells": [
  {
   "cell_type": "code",
   "execution_count": 1,
   "metadata": {},
   "outputs": [],
   "source": [
    "from python_libs.dataset import RoseParser, Protocol, Record, Datasource\n",
    "from random import random\n",
    "import numpy as np"
   ]
  },
  {
   "cell_type": "code",
   "execution_count": 2,
   "metadata": {},
   "outputs": [
    {
     "ename": "ValueError",
     "evalue": "a must be 1-dimensional",
     "output_type": "error",
     "traceback": [
      "\u001b[0;31m---------------------------------------------------------------------------\u001b[0m",
      "\u001b[0;31mValueError\u001b[0m                                Traceback (most recent call last)",
      "Cell \u001b[0;32mIn[2], line 2\u001b[0m\n\u001b[1;32m      1\u001b[0m \u001b[39m# train, test = Protocol.get_pairs_protocol(\"/home/equipo/Insync/arnoldjair@gmail.com/GoogleDrive/Desarrollo/python_libs/configs/unit_test.json\")\u001b[39;00m\n\u001b[0;32m----> 2\u001b[0m train, test \u001b[39m=\u001b[39m Protocol\u001b[39m.\u001b[39;49mget_pairs_protocol(\u001b[39m\"\u001b[39;49m\u001b[39m/home/equipo/Desarrollo/python_libs/configs/unit_test.json\u001b[39;49m\u001b[39m\"\u001b[39;49m)\n\u001b[1;32m      3\u001b[0m datasource \u001b[39m=\u001b[39m Datasource(train, \u001b[39m300\u001b[39m, \u001b[39m416\u001b[39m, \u001b[39m416\u001b[39m)\n",
      "File \u001b[0;32m~/Desarrollo/python_libs/src/python_libs/dataset/protocol.py:99\u001b[0m, in \u001b[0;36mProtocol.get_pairs_protocol\u001b[0;34m(json_path)\u001b[0m\n\u001b[1;32m     96\u001b[0m     genuine_user_records \u001b[39m=\u001b[39m [curr \u001b[39mfor\u001b[39;00m curr \u001b[39min\u001b[39;00m records \u001b[39mif\u001b[39;00m curr\u001b[39m.\u001b[39mdataset \u001b[39m==\u001b[39m record\u001b[39m.\u001b[39mdataset \u001b[39mand\u001b[39;00m curr\u001b[39m.\u001b[39mclient \u001b[39m==\u001b[39m record\u001b[39m.\u001b[39mclient \u001b[39mand\u001b[39;00m curr\u001b[39m.\u001b[39mlabel \u001b[39m==\u001b[39m \u001b[39m0\u001b[39m]\n\u001b[1;32m     97\u001b[0m     fraud_user_records \u001b[39m=\u001b[39m [curr \u001b[39mfor\u001b[39;00m curr \u001b[39min\u001b[39;00m records \u001b[39mif\u001b[39;00m curr\u001b[39m.\u001b[39mdataset \u001b[39m==\u001b[39m record\u001b[39m.\u001b[39mdataset \u001b[39mand\u001b[39;00m curr\u001b[39m.\u001b[39mclient \u001b[39m==\u001b[39m record\u001b[39m.\u001b[39mclient \u001b[39mand\u001b[39;00m curr\u001b[39m.\u001b[39mlabel \u001b[39m==\u001b[39m \u001b[39m1\u001b[39m]\n\u001b[1;32m     98\u001b[0m     pairs_train\u001b[39m.\u001b[39mappend(\n\u001b[0;32m---> 99\u001b[0m         [record, np\u001b[39m.\u001b[39;49mrandom\u001b[39m.\u001b[39;49mchoice([genuine_user_records]), \u001b[39m1\u001b[39m \u001b[39mif\u001b[39;00m record\u001b[39m.\u001b[39mlabel \u001b[39m==\u001b[39m \u001b[39m0\u001b[39m \u001b[39melse\u001b[39;00m \u001b[39m0\u001b[39m]\n\u001b[1;32m    100\u001b[0m     )\n\u001b[1;32m    101\u001b[0m     pairs_train\u001b[39m.\u001b[39mappend(\n\u001b[1;32m    102\u001b[0m         [record, np\u001b[39m.\u001b[39mrandom\u001b[39m.\u001b[39mchoice(fraud_user_records), \u001b[39m1\u001b[39m \u001b[39mif\u001b[39;00m record\u001b[39m.\u001b[39mlabel \u001b[39m==\u001b[39m \u001b[39m1\u001b[39m \u001b[39melse\u001b[39;00m \u001b[39m0\u001b[39m]\n\u001b[1;32m    103\u001b[0m     )\n\u001b[1;32m    104\u001b[0m \u001b[39melse\u001b[39;00m:\n",
      "File \u001b[0;32mmtrand.pyx:911\u001b[0m, in \u001b[0;36mnumpy.random.mtrand.RandomState.choice\u001b[0;34m()\u001b[0m\n",
      "\u001b[0;31mValueError\u001b[0m: a must be 1-dimensional"
     ]
    }
   ],
   "source": [
    "# train, test = Protocol.get_pairs_protocol(\"/home/equipo/Insync/arnoldjair@gmail.com/GoogleDrive/Desarrollo/python_libs/configs/unit_test.json\")\n",
    "train, test = Protocol.get_pairs_protocol(\"/home/equipo/Desarrollo/python_libs/configs/unit_test.json\")\n",
    "datasource = Datasource(train, 300, 416, 416)"
   ]
  },
  {
   "cell_type": "code",
   "execution_count": null,
   "metadata": {},
   "outputs": [],
   "source": [
    "\n",
    "item = datasource.__getitem__(0)\n",
    "train[50]"
   ]
  },
  {
   "cell_type": "code",
   "execution_count": null,
   "metadata": {},
   "outputs": [],
   "source": [
    "item"
   ]
  },
  {
   "cell_type": "code",
   "execution_count": null,
   "metadata": {},
   "outputs": [],
   "source": []
  }
 ],
 "metadata": {
  "kernelspec": {
   "display_name": "Python 3.10.6 ('python_libs')",
   "language": "python",
   "name": "python3"
  },
  "language_info": {
   "codemirror_mode": {
    "name": "ipython",
    "version": 3
   },
   "file_extension": ".py",
   "mimetype": "text/x-python",
   "name": "python",
   "nbconvert_exporter": "python",
   "pygments_lexer": "ipython3",
   "version": "3.9.16"
  },
  "orig_nbformat": 4,
  "vscode": {
   "interpreter": {
    "hash": "171ed7ad2087d64c3fb0ac4c60fa45746fdef4062527c46a2659ac54d234a524"
   }
  }
 },
 "nbformat": 4,
 "nbformat_minor": 2
}
