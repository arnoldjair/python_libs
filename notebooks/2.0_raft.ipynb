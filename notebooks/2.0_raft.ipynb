{
 "cells": [
  {
   "cell_type": "code",
   "execution_count": null,
   "metadata": {},
   "outputs": [],
   "source": [
    "import os\n",
    "from python_libs.optical_flow import RaftModel\n",
    "from python_libs.video import get_frames\n"
   ]
  },
  {
   "cell_type": "code",
   "execution_count": null,
   "metadata": {},
   "outputs": [],
   "source": [
    "model_path = os.path.join(\"/home/equipo/Insync/arnoldjair@gmail.com/GoogleDrive/Desarrollo/python_libs/models/raft-sintel.pth\")\n",
    "model = RaftModel(model_path)"
   ]
  },
  {
   "cell_type": "code",
   "execution_count": null,
   "metadata": {},
   "outputs": [],
   "source": [
    "frame_time = 300\n",
    "width = 416\n",
    "height = 416\n",
    "video_path = \"/home/equipo/Insync/arnoldjair@gmail.com/GoogleDrive/Desarrollo/python_libs/data/raw/G_NT_5s_wg_E_10_1.mp4\"\n",
    "\n",
    "flow = model.process_video(video_path, frame_time, width, height)\n",
    "frames = get_frames(video_path, time=300)"
   ]
  },
  {
   "cell_type": "code",
   "execution_count": null,
   "metadata": {},
   "outputs": [],
   "source": [
    "import torch\n",
    "import numpy as np\n",
    "from python_libs.optical_flow.raft import RAFT, flow_viz\n",
    "from python_libs.image import load_image\n",
    "\n",
    "# for key in flow:\n",
    "#     print(key)\n",
    "key = 18\n",
    "flo = torch.from_numpy(flow[key]).permute(2, 0, 1).unsqueeze(0)\n",
    "frame_1 = frames.get(key)\n",
    "image = np.array(load_image(frames.get(key)))\n",
    "frame = torch.from_numpy(\n",
    "                np.array(load_image(frames.get(key)).resize((52, 52)))\n",
    "            ).permute(2, 0, 1).float().unsqueeze(0)\n",
    "RaftModel.visualize_flow(frame, flo)\n",
    "\n",
    "    # img = flow_viz.flow_to_image(flo)\n",
    "    # RaftModel.save_flow(flo, f'{key}.png', \"/home/equipo/borrar/\")"
   ]
  },
  {
   "cell_type": "code",
   "execution_count": null,
   "metadata": {},
   "outputs": [],
   "source": []
  }
 ],
 "metadata": {
  "kernelspec": {
   "display_name": "Python 3.8.5 ('.venv': venv)",
   "language": "python",
   "name": "python3"
  },
  "language_info": {
   "codemirror_mode": {
    "name": "ipython",
    "version": 3
   },
   "file_extension": ".py",
   "mimetype": "text/x-python",
   "name": "python",
   "nbconvert_exporter": "python",
   "pygments_lexer": "ipython3",
   "version": "3.8.5"
  },
  "pycharm": {
   "stem_cell": {
    "cell_type": "raw",
    "metadata": {
     "collapsed": false
    },
    "source": []
   }
  },
  "vscode": {
   "interpreter": {
    "hash": "c868153f573099a4deae4b467597d5de10e71a9cae2822005767a4b24aca74ed"
   }
  }
 },
 "nbformat": 4,
 "nbformat_minor": 2
}
