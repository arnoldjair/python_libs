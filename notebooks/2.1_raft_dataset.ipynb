{
 "cells": [
  {
   "cell_type": "code",
   "execution_count": 1,
   "metadata": {},
   "outputs": [
    {
     "name": "stderr",
     "output_type": "stream",
     "text": [
      "/home/equipo/Insync/arnoldjair@gmail.com/GoogleDrive/Desarrollo/python_libs/.venv/lib/python3.8/site-packages/tqdm/auto.py:22: TqdmWarning: IProgress not found. Please update jupyter and ipywidgets. See https://ipywidgets.readthedocs.io/en/stable/user_install.html\n",
      "  from .autonotebook import tqdm as notebook_tqdm\n"
     ]
    },
    {
     "name": "stdout",
     "output_type": "stream",
     "text": [
      "No module named 'alt_cuda_corr'\n"
     ]
    }
   ],
   "source": [
    "import os\n",
    "from python_libs.optical_flow import RaftModel\n",
    "from python_libs.video import get_frames\n"
   ]
  },
  {
   "cell_type": "code",
   "execution_count": 2,
   "metadata": {},
   "outputs": [],
   "source": [
    "model_path = os.path.join(\"/home/equipo/Insync/arnoldjair@gmail.com/GoogleDrive/Desarrollo/python_libs/models/raft-sintel.pth\")\n",
    "model = RaftModel(model_path)"
   ]
  },
  {
   "cell_type": "code",
   "execution_count": 3,
   "metadata": {},
   "outputs": [],
   "source": [
    "frame_time = 100\n",
    "width = 416\n",
    "height = 416"
   ]
  },
  {
   "cell_type": "code",
   "execution_count": 4,
   "metadata": {},
   "outputs": [],
   "source": [
    "rose_list = \"/home/equipo/Insync/arnoldjair@gmail.com/GoogleDrive/Datasets/SpoofingDatasets/replay-mobile/list.txt\"\n",
    "root_path = \"/home/equipo/Insync/arnoldjair@gmail.com/GoogleDrive/Datasets/SpoofingDatasets/replay-mobile/\""
   ]
  },
  {
   "cell_type": "code",
   "execution_count": 5,
   "metadata": {},
   "outputs": [
    {
     "name": "stdout",
     "output_type": "stream",
     "text": [
      "Processing /home/equipo/Insync/arnoldjair@gmail.com/GoogleDrive/Datasets/SpoofingDatasets/replay-mobile/database/test/real/client033_session02_authenticate_tablet_direct.mov: 90.0 - 1280 - 720\n"
     ]
    },
    {
     "name": "stderr",
     "output_type": "stream",
     "text": [
      "/home/equipo/Insync/arnoldjair@gmail.com/GoogleDrive/Desarrollo/python_libs/.venv/lib/python3.8/site-packages/torch/functional.py:478: UserWarning: torch.meshgrid: in an upcoming release, it will be required to pass the indexing argument. (Triggered internally at  ../aten/src/ATen/native/TensorShape.cpp:2895.)\n",
      "  return _VF.meshgrid(tensors, **kwargs)  # type: ignore[attr-defined]\n",
      "100%|██████████| 99/99 [00:00<00:00, 2627.26it/s]\n"
     ]
    },
    {
     "name": "stdout",
     "output_type": "stream",
     "text": [
      "Processing /home/equipo/Insync/arnoldjair@gmail.com/GoogleDrive/Datasets/SpoofingDatasets/replay-mobile/database/test/real/client033_session02_authenticate_mobile_controlled.mov: 270.0 - 1280 - 720\n"
     ]
    },
    {
     "name": "stderr",
     "output_type": "stream",
     "text": [
      "100%|██████████| 99/99 [00:00<00:00, 2417.72it/s]\n"
     ]
    },
    {
     "name": "stdout",
     "output_type": "stream",
     "text": [
      "Processing /home/equipo/Insync/arnoldjair@gmail.com/GoogleDrive/Datasets/SpoofingDatasets/replay-mobile/database/test/real/client010_session02_authenticate_mobile_lateral.mov: 270.0 - 1280 - 720\n"
     ]
    },
    {
     "name": "stderr",
     "output_type": "stream",
     "text": [
      "100%|██████████| 98/98 [00:00<00:00, 1752.86it/s]\n"
     ]
    },
    {
     "name": "stdout",
     "output_type": "stream",
     "text": [
      "Processing /home/equipo/Insync/arnoldjair@gmail.com/GoogleDrive/Datasets/SpoofingDatasets/replay-mobile/database/test/real/client019_session02_authenticate_tablet_controlled.mov: 90.0 - 1280 - 720\n"
     ]
    }
   ],
   "source": [
    "model.process_dataset(frame_time, 416, 416, rose_list, root_path, \"_flow_100_416_416.hdf5\", True)"
   ]
  }
 ],
 "metadata": {
  "kernelspec": {
   "display_name": "Python 3.8.5 ('.venv': venv)",
   "language": "python",
   "name": "python3"
  },
  "language_info": {
   "codemirror_mode": {
    "name": "ipython",
    "version": 3
   },
   "file_extension": ".py",
   "mimetype": "text/x-python",
   "name": "python",
   "nbconvert_exporter": "python",
   "pygments_lexer": "ipython3",
   "version": "3.8.5"
  },
  "orig_nbformat": 4,
  "vscode": {
   "interpreter": {
    "hash": "c868153f573099a4deae4b467597d5de10e71a9cae2822005767a4b24aca74ed"
   }
  }
 },
 "nbformat": 4,
 "nbformat_minor": 2
}
