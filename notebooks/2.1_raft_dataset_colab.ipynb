{
  "cells": [
    {
      "cell_type": "markdown",
      "metadata": {
        "id": "view-in-github",
        "colab_type": "text"
      },
      "source": [
        "<a href=\"https://colab.research.google.com/github/arnoldjair/python_libs/blob/master/notebooks/2.1_raft_dataset_colab.ipynb\" target=\"_parent\"><img src=\"https://colab.research.google.com/assets/colab-badge.svg\" alt=\"Open In Colab\"/></a>"
      ]
    },
    {
      "cell_type": "code",
      "source": [
        "from google.colab import drive \n",
        "drive.mount('/content/drive')"
      ],
      "metadata": {
        "id": "iBRnrLaX9PeS",
        "outputId": "cfc08d39-8b89-4d4d-b2de-820d75d6d090",
        "colab": {
          "base_uri": "https://localhost:8080/"
        }
      },
      "execution_count": 1,
      "outputs": [
        {
          "output_type": "stream",
          "name": "stdout",
          "text": [
            "Mounted at /content/drive\n"
          ]
        }
      ]
    },
    {
      "cell_type": "code",
      "source": [
        "!pip install /content/drive/MyDrive/Desarrollo/packages/python_libs-0.0.1-py3-none-any.whl"
      ],
      "metadata": {
        "id": "mjLfoqYA9ZFV"
      },
      "execution_count": null,
      "outputs": []
    },
    {
      "cell_type": "code",
      "source": [
        "!cp /content/drive/MyDrive/Desarrollo/python_libs/configs/unit_test.json /content/"
      ],
      "metadata": {
        "id": "W06bAxVA9uE-"
      },
      "execution_count": 3,
      "outputs": []
    },
    {
      "cell_type": "code",
      "execution_count": 4,
      "metadata": {
        "id": "GyAqYED084wI",
        "outputId": "27ba460e-4d59-45f2-ffd7-224529168f93",
        "colab": {
          "base_uri": "https://localhost:8080/"
        }
      },
      "outputs": [
        {
          "output_type": "stream",
          "name": "stdout",
          "text": [
            "No module named 'alt_cuda_corr'\n"
          ]
        }
      ],
      "source": [
        "import os\n",
        "from python_libs.optical_flow import RaftModel\n",
        "from python_libs.video import get_frames\n"
      ]
    },
    {
      "cell_type": "code",
      "execution_count": 5,
      "metadata": {
        "id": "CuHjblKM84wL"
      },
      "outputs": [],
      "source": [
        "model_path = os.path.join(\"/content/drive/MyDrive/Desarrollo/models/raft-sintel.pth\")\n",
        "model = RaftModel(model_path)"
      ]
    },
    {
      "cell_type": "code",
      "execution_count": 6,
      "metadata": {
        "id": "nUUNcc6q84wM"
      },
      "outputs": [],
      "source": [
        "frame_time = 100\n",
        "width = 416\n",
        "height = 416"
      ]
    },
    {
      "cell_type": "code",
      "execution_count": 7,
      "metadata": {
        "id": "U3BEPQsC84wN"
      },
      "outputs": [],
      "source": [
        "video_list = \"/content/drive/MyDrive/Datasets/SpoofingDatasets/replay-mobile/list.txt\"\n",
        "root_path = \"/content/drive/MyDrive/Datasets/SpoofingDatasets/replay-mobile/\""
      ]
    },
    {
      "cell_type": "code",
      "execution_count": null,
      "metadata": {
        "id": "tDXjA2iM84wO",
        "outputId": "53f81218-f64d-49de-8493-75b6717708d9"
      },
      "outputs": [
        {
          "name": "stdout",
          "output_type": "stream",
          "text": [
            "Processing /home/equipo/Insync/arnoldjair@gmail.com/GoogleDrive/Datasets/SpoofingDatasets/replay-mobile/database/test/real/client033_session02_authenticate_tablet_direct.mov: 90.0 - 1280 - 720\n"
          ]
        },
        {
          "name": "stderr",
          "output_type": "stream",
          "text": [
            "/home/equipo/Insync/arnoldjair@gmail.com/GoogleDrive/Desarrollo/python_libs/.venv/lib/python3.8/site-packages/torch/functional.py:478: UserWarning: torch.meshgrid: in an upcoming release, it will be required to pass the indexing argument. (Triggered internally at  ../aten/src/ATen/native/TensorShape.cpp:2895.)\n",
            "  return _VF.meshgrid(tensors, **kwargs)  # type: ignore[attr-defined]\n",
            "100%|██████████| 99/99 [00:00<00:00, 2627.26it/s]\n"
          ]
        },
        {
          "name": "stdout",
          "output_type": "stream",
          "text": [
            "Processing /home/equipo/Insync/arnoldjair@gmail.com/GoogleDrive/Datasets/SpoofingDatasets/replay-mobile/database/test/real/client033_session02_authenticate_mobile_controlled.mov: 270.0 - 1280 - 720\n"
          ]
        },
        {
          "name": "stderr",
          "output_type": "stream",
          "text": [
            "100%|██████████| 99/99 [00:00<00:00, 2417.72it/s]\n"
          ]
        },
        {
          "name": "stdout",
          "output_type": "stream",
          "text": [
            "Processing /home/equipo/Insync/arnoldjair@gmail.com/GoogleDrive/Datasets/SpoofingDatasets/replay-mobile/database/test/real/client010_session02_authenticate_mobile_lateral.mov: 270.0 - 1280 - 720\n"
          ]
        },
        {
          "name": "stderr",
          "output_type": "stream",
          "text": [
            "100%|██████████| 98/98 [00:00<00:00, 1752.86it/s]\n"
          ]
        },
        {
          "name": "stdout",
          "output_type": "stream",
          "text": [
            "Processing /home/equipo/Insync/arnoldjair@gmail.com/GoogleDrive/Datasets/SpoofingDatasets/replay-mobile/database/test/real/client019_session02_authenticate_tablet_controlled.mov: 90.0 - 1280 - 720\n"
          ]
        }
      ],
      "source": [
        "model.process_dataset(frame_time, 416, 416, video_list, root_path, \"_flow_100_416_416.hdf5\", True)"
      ]
    }
  ],
  "metadata": {
    "kernelspec": {
      "display_name": "Python 3.8.5 ('.venv': venv)",
      "language": "python",
      "name": "python3"
    },
    "language_info": {
      "codemirror_mode": {
        "name": "ipython",
        "version": 3
      },
      "file_extension": ".py",
      "mimetype": "text/x-python",
      "name": "python",
      "nbconvert_exporter": "python",
      "pygments_lexer": "ipython3",
      "version": "3.8.5"
    },
    "orig_nbformat": 4,
    "vscode": {
      "interpreter": {
        "hash": "c868153f573099a4deae4b467597d5de10e71a9cae2822005767a4b24aca74ed"
      }
    },
    "colab": {
      "name": "2.1_raft_dataset.ipynb",
      "provenance": [],
      "include_colab_link": true
    },
    "accelerator": "GPU",
    "gpuClass": "standard"
  },
  "nbformat": 4,
  "nbformat_minor": 0
}