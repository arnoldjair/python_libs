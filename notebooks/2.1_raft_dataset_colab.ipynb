{
  "cells": [
    {
      "cell_type": "markdown",
      "metadata": {
        "id": "view-in-github",
        "colab_type": "text"
      },
      "source": [
        "<a href=\"https://colab.research.google.com/github/arnoldjair/python_libs/blob/master/notebooks/2.1_raft_dataset_colab.ipynb\" target=\"_parent\"><img src=\"https://colab.research.google.com/assets/colab-badge.svg\" alt=\"Open In Colab\"/></a>"
      ]
    },
    {
      "cell_type": "code",
      "source": [
        "from google.colab import drive \n",
        "drive.mount('/content/drive')"
      ],
      "metadata": {
        "id": "iBRnrLaX9PeS"
      },
      "execution_count": null,
      "outputs": []
    },
    {
      "cell_type": "code",
      "source": [
        "!pip install /content/drive/MyDrive/Desarrollo/packages/python_libs-0.0.1-py3-none-any.whl"
      ],
      "metadata": {
        "id": "mjLfoqYA9ZFV"
      },
      "execution_count": null,
      "outputs": []
    },
    {
      "cell_type": "code",
      "source": [
        "!cp /content/drive/MyDrive/Desarrollo/python_libs/configs/unit_test.json /content/"
      ],
      "metadata": {
        "id": "W06bAxVA9uE-"
      },
      "execution_count": null,
      "outputs": []
    },
    {
      "cell_type": "code",
      "execution_count": null,
      "metadata": {
        "id": "GyAqYED084wI"
      },
      "outputs": [],
      "source": [
        "import os\n",
        "from python_libs.optical_flow import RaftModel\n",
        "from python_libs.video import get_frames\n"
      ]
    },
    {
      "cell_type": "code",
      "execution_count": null,
      "metadata": {
        "id": "CuHjblKM84wL"
      },
      "outputs": [],
      "source": [
        "model_path = os.path.join(\"/content/drive/MyDrive/Desarrollo/models/raft-sintel.pth\")\n",
        "model = RaftModel(model_path)"
      ]
    },
    {
      "cell_type": "code",
      "execution_count": null,
      "metadata": {
        "id": "nUUNcc6q84wM"
      },
      "outputs": [],
      "source": [
        "frame_time = 100\n",
        "width = 416\n",
        "height = 416"
      ]
    },
    {
      "cell_type": "code",
      "execution_count": null,
      "metadata": {
        "id": "U3BEPQsC84wN"
      },
      "outputs": [],
      "source": [
        "video_list = \"/content/drive/MyDrive/Datasets/SpoofingDatasets/replay-mobile/list.txt\"\n",
        "root_path = \"/content/drive/MyDrive/Datasets/SpoofingDatasets/replay-mobile/\""
      ]
    },
    {
      "cell_type": "code",
      "execution_count": null,
      "metadata": {
        "id": "tDXjA2iM84wO"
      },
      "outputs": [],
      "source": [
        "model.process_dataset(frame_time, width, height, video_list, root_path, f\"_flow_{frame_time}_{width}_{height}.hdf5\", True)"
      ]
    }
  ],
  "metadata": {
    "kernelspec": {
      "display_name": "Python 3.8.5 ('.venv': venv)",
      "language": "python",
      "name": "python3"
    },
    "language_info": {
      "codemirror_mode": {
        "name": "ipython",
        "version": 3
      },
      "file_extension": ".py",
      "mimetype": "text/x-python",
      "name": "python",
      "nbconvert_exporter": "python",
      "pygments_lexer": "ipython3",
      "version": "3.8.5"
    },
    "orig_nbformat": 4,
    "vscode": {
      "interpreter": {
        "hash": "c868153f573099a4deae4b467597d5de10e71a9cae2822005767a4b24aca74ed"
      }
    },
    "colab": {
      "name": "2.1_raft_dataset.ipynb",
      "provenance": [],
      "include_colab_link": true
    },
    "accelerator": "GPU",
    "gpuClass": "standard"
  },
  "nbformat": 4,
  "nbformat_minor": 0
}